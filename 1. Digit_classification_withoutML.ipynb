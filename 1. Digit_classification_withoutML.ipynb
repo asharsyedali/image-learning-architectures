{
  "cells": [
    {
      "cell_type": "markdown",
      "source": [
        "##Importing Libraries"
      ],
      "metadata": {
        "id": "jab2AxK9UulA"
      }
    },
    {
      "cell_type": "code",
      "execution_count": null,
      "metadata": {
        "id": "ZTQ_Jqjm6KLH",
        "outputId": "2d0d5b4a-75e7-4298-bdbe-9df2d0fa1b27"
      },
      "outputs": [
        {
          "name": "stderr",
          "output_type": "stream",
          "text": [
            "/home/mohi/.local/lib/python3.10/site-packages/matplotlib/projections/__init__.py:63: UserWarning: Unable to import Axes3D. This may be due to multiple versions of Matplotlib being installed (e.g. as a system package and as a pip package). As a result, the 3D projection is not available.\n",
            "  warnings.warn(\"Unable to import Axes3D. This may be due to multiple versions of \"\n"
          ]
        }
      ],
      "source": [
        "import os\n",
        "import pandas as pd\n",
        "import matplotlib.pyplot as plt\n",
        "import numpy as np"
      ]
    },
    {
      "cell_type": "markdown",
      "source": [
        "## Load Data"
      ],
      "metadata": {
        "id": "rNq2F6hUU6yA"
      }
    },
    {
      "cell_type": "code",
      "execution_count": null,
      "metadata": {
        "id": "fC66sKtc64CY"
      },
      "outputs": [],
      "source": [
        "# Load the dataset into a pandas dataframe\n",
        "train_df = pd.read_csv('train.csv')\n",
        "validate_df = pd.read_csv('validate.csv')"
      ]
    },
    {
      "cell_type": "code",
      "execution_count": null,
      "metadata": {
        "colab": {
          "base_uri": "https://localhost:8080/"
        },
        "id": "ttLaTYtH67vV",
        "outputId": "fec3dc41-f39e-43c4-cfbf-47ffdc489cc7"
      },
      "outputs": [
        {
          "name": "stdout",
          "output_type": "stream",
          "text": [
            "Train Data Head:\n",
            "   5  0  0.1  0.2  0.3  0.4  0.5  0.6  0.7  0.8  ...  0.608  0.609  0.610  \\\n",
            "0  8  0    0    0    0    0    0    0    0    0  ...      0      0      0   \n",
            "1  7  0    0    0    0    0    0    0    0    0  ...      0      0      0   \n",
            "2  9  0    0    0    0    0    0    0    0    0  ...      0      0      0   \n",
            "3  9  0    0    0    0    0    0    0    0    0  ...      0      0      0   \n",
            "4  0  0    0    0    0    0    0    0    0    0  ...      0      0      0   \n",
            "\n",
            "   0.611  0.612  0.613  0.614  0.615  0.616  0.617  \n",
            "0      0      0      0      0      0      0      0  \n",
            "1      0      0      0      0      0      0      0  \n",
            "2      0      0      0      0      0      0      0  \n",
            "3      0      0      0      0      0      0      0  \n",
            "4      0      0      0      0      0      0      0  \n",
            "\n",
            "[5 rows x 785 columns]\n"
          ]
        }
      ],
      "source": [
        "# Display first few rows of the dataset\n",
        "print(\"Train Data Head:\")\n",
        "print(train_df.head())\n",
        "# Each row in the data set contains a label and a flattend 28x28 pixel image of a digit"
      ]
    },
    {
      "cell_type": "markdown",
      "source": [
        "## Preprocessing"
      ],
      "metadata": {
        "id": "lzXIbujEVCrF"
      }
    },
    {
      "cell_type": "code",
      "execution_count": null,
      "metadata": {
        "colab": {
          "base_uri": "https://localhost:8080/",
          "height": 452
        },
        "id": "W4R3nYvO7DfZ",
        "outputId": "85253288-24b1-4745-ff81-bd6f5404df8c"
      },
      "outputs": [
        {
          "data": {
            "image/png": "[encoded data removed]",
            "text/plain": [
              "<Figure size 640x480 with 1 Axes>"
            ]
          },
          "metadata": {},
          "output_type": "display_data"
        }
      ],
      "source": [
        "# Convert a row to an image\n",
        "def show_image(image_row, label=None):\n",
        "    image = image_row.to_numpy().reshape(28, 28)\n",
        "    plt.imshow(image, cmap='gray')\n",
        "    if label is not None:\n",
        "        plt.title(f\"Label: {label}\")\n",
        "    plt.show()\n",
        "\n",
        "# display the ith image in the dataset\n",
        "i = 30\n",
        "\n",
        "show_image(train_df.iloc[i, 1:], train_df.iloc[i, 0])"
      ]
    },
    {
      "cell_type": "markdown",
      "source": [
        "## Applying Threshhold"
      ],
      "metadata": {
        "id": "KZEJwKkhVIZE"
      }
    },
    {
      "cell_type": "code",
      "execution_count": null,
      "metadata": {
        "colab": {
          "base_uri": "https://localhost:8080/",
          "height": 444
        },
        "id": "IVjdBZF27Ibz",
        "outputId": "e208a9e4-35d9-4aa6-e50a-f7f5a36716ca"
      },
      "outputs": [
        {
          "data": {
            "image/png": "[encoded data removed]",
            "text/plain": [
              "<Figure size 500x500 with 1 Axes>"
            ]
          },
          "metadata": {},
          "output_type": "display_data"
        }
      ],
      "source": [
        "# Apply threshold to the images to convert them to binary (black and white)\n",
        "\n",
        "def apply_threshold(image_row, threshold=100):\n",
        "    return (image_row > threshold).astype(int)\n",
        "\n",
        "# Display the i-th thresholded image\n",
        "i = 30  # Specify the index of the image to display\n",
        "image = train_df.iloc[i, 1:]  # Extract pixel data for the i-th image\n",
        "label = train_df.iloc[i, 0]  # Extract the label for the i-th image\n",
        "\n",
        "thresholded_image = apply_threshold(image.values, threshold=100)  # Apply threshold\n",
        "\n",
        "plt.figure(figsize=(5, 5))\n",
        "plt.imshow(thresholded_image.reshape(28, 28), cmap='gray')  # Reshape and display\n",
        "plt.title(f\"Label: {label}\")  # Set title with label\n",
        "plt.axis('off')  # Turn off axes for better visualization\n",
        "plt.show()"
      ]
    },
    {
      "cell_type": "code",
      "execution_count": null,
      "metadata": {
        "id": "aG-ivchDUrdL"
      },
      "outputs": [],
      "source": [
        "# Create a new DataFrame to store thresholded images\n",
        "new_train_df = train_df.copy()  # Copy the original DataFrame to preserve labels\n",
        "\n",
        "# Apply threshold to all images in train_df and store in new_train_df\n",
        "new_train_df.iloc[:, 1:] = train_df.iloc[:, 1:].apply(apply_threshold, axis=1)\n"
      ]
    },
    {
      "cell_type": "code",
      "execution_count": null,
      "metadata": {
        "id": "uHiQie5RUrdM"
      },
      "outputs": [],
      "source": [
        "# Apply threshold to all images in validate_df\n",
        "new_validate_df = validate_df.copy()  # Copy the original DataFrame to preserve labels\n",
        "new_validate_df.iloc[:, 1:] = validate_df.iloc[:, 1:].apply(apply_threshold, axis=1)"
      ]
    },
    {
      "cell_type": "code",
      "execution_count": null,
      "metadata": {
        "id": "3srZ7niuUrdN",
        "outputId": "8f8583ce-ae24-4825-fb6f-ceba9306f896"
      },
      "outputs": [
        {
          "data": {
            "image/png": "[encoded data removed]",
            "text/plain": [
              "<Figure size 1000x500 with 2 Axes>"
            ]
          },
          "metadata": {},
          "output_type": "display_data"
        }
      ],
      "source": [
        "import matplotlib.pyplot as plt\n",
        "\n",
        "# Specify the index of the image to display\n",
        "index_to_display = 10000  # Change this index to display a different image\n",
        "\n",
        "# Extract the original and thresholded images\n",
        "original_image = train_df.iloc[index_to_display, 1:].values.reshape(28, 28)\n",
        "thresholded_image = new_train_df.iloc[index_to_display, 1:].values.reshape(28, 28)\n",
        "\n",
        "# Create a figure to display both images\n",
        "plt.figure(figsize=(10, 5))\n",
        "\n",
        "# Display the original image\n",
        "plt.subplot(1, 2, 1)\n",
        "plt.imshow(original_image, cmap='gray')\n",
        "plt.title(f\"Original Label: {train_df.iloc[index_to_display, 0]}\")\n",
        "plt.axis('off')\n",
        "\n",
        "# Display the thresholded image\n",
        "plt.subplot(1, 2, 2)\n",
        "plt.imshow(thresholded_image, cmap='gray')\n",
        "plt.title(f\"Thresholded Label: {new_train_df.iloc[index_to_display, 0]}\")\n",
        "plt.axis('off')\n",
        "\n",
        "plt.tight_layout()\n",
        "plt.show()"
      ]
    },
    {
      "cell_type": "markdown",
      "source": [
        "## Calculating Mean_Variance"
      ],
      "metadata": {
        "id": "RU9aisa9VVx9"
      }
    },
    {
      "cell_type": "code",
      "execution_count": null,
      "metadata": {
        "colab": {
          "base_uri": "https://localhost:8080/"
        },
        "id": "IqdYuWM0BKhO",
        "outputId": "0c3dcf7a-4aa3-4701-efbd-456260036a4d"
      },
      "outputs": [
        {
          "name": "stdout",
          "output_type": "stream",
          "text": [
            "Mean: 36.80102040816327 Variance: 6695.924692836319\n"
          ]
        }
      ],
      "source": [
        "# Function to calculate mean and variance for each image\n",
        "def calculate_mean_and_variance(image_row):\n",
        "    image = image_row.to_numpy().reshape(28, 28)  # Reshape into 28x28 image\n",
        "    mean = np.mean(image)  # Calculate the mean of pixel values\n",
        "    variance = np.var(image)  # Calculate the variance of pixel values\n",
        "    return mean, variance\n",
        "\n",
        "# Example for the first image in the dataset\n",
        "mean, variance = calculate_mean_and_variance(train_df.iloc[0, 1:])\n",
        "print(\"Mean:\", mean, \"Variance:\", variance)"
      ]
    },
    {
      "cell_type": "markdown",
      "source": [
        "## Training Data"
      ],
      "metadata": {
        "id": "KTLCvp3KWHSs"
      }
    },
    {
      "cell_type": "code",
      "execution_count": null,
      "metadata": {
        "id": "nahEYHg3BP4b"
      },
      "outputs": [],
      "source": [
        "# Prepare feature vectors (mean and variance) and labels for the training set\n",
        "train_features = []\n",
        "train_labels = []\n",
        "\n",
        "for i in range(len(train_df)):\n",
        "    mean, variance = calculate_mean_and_variance(train_df.iloc[i, 1:])\n",
        "    train_features.append([mean, variance])  # Features as a list of [mean, variance]\n",
        "    train_labels.append(train_df.iloc[i, 0])  # Label (digit)\n",
        "\n",
        "train_features = np.array(train_features)\n",
        "train_labels = np.array(train_labels)\n",
        "\n",
        "# Similarly, prepare the validation set features and labels\n",
        "validate_features = []\n",
        "validate_labels = []\n",
        "\n",
        "for i in range(len(validate_df)):\n",
        "    mean, variance = calculate_mean_and_variance(validate_df.iloc[i, 1:])\n",
        "    validate_features.append([mean, variance])\n",
        "    validate_labels.append(validate_df.iloc[i, 0])\n",
        "\n",
        "validate_features = np.array(validate_features)\n",
        "validate_labels = np.array(validate_labels)"
      ]
    },
    {
      "cell_type": "code",
      "execution_count": null,
      "metadata": {
        "id": "bTeWTtQmBeao"
      },
      "outputs": [],
      "source": [
        "def euclidean_distance(point1, point2):\n",
        "    return np.sqrt((point1[0] - point2[0])**2 + (point1[1] - point2[1])**2)"
      ]
    },
    {
      "cell_type": "code",
      "execution_count": null,
      "metadata": {
        "id": "SlzidavABmSt"
      },
      "outputs": [],
      "source": [
        "def predict(test_features, train_features, train_labels):\n",
        "    predictions = []\n",
        "    for test_point in test_features:\n",
        "        # Compute the distances between the test_point and all training points\n",
        "        distances = [euclidean_distance(test_point, train_point) for train_point in train_features]\n",
        "\n",
        "        # Find the index of the closest training point\n",
        "        closest_index = np.argmin(distances)  # Index of the minimum distance\n",
        "        predictions.append(train_labels[closest_index])  # Label of the closest point\n",
        "    return predictions"
      ]
    },
    {
      "cell_type": "markdown",
      "source": [
        "## Calculating Accuracy"
      ],
      "metadata": {
        "id": "ExdxokpbVhiZ"
      }
    },
    {
      "cell_type": "code",
      "execution_count": null,
      "metadata": {
        "colab": {
          "base_uri": "https://localhost:8080/"
        },
        "id": "WjBmfu2DBqWQ",
        "outputId": "0119697d-2466-404f-ccda-572301161274"
      },
      "outputs": [
        {
          "name": "stdout",
          "output_type": "stream",
          "text": [
            "Validation Accuracy: 0.8627\n"
          ]
        }
      ],
      "source": [
        "def calculate_accuracy(predictions, true_labels):\n",
        "    correct = sum(predictions == true_labels)  # Count the correct predictions\n",
        "    accuracy = correct / len(true_labels)  # Calculate accuracy\n",
        "    return accuracy\n",
        "\n",
        "# Make predictions on the validation set\n",
        "predictions = predict(validate_features, train_features, train_labels)\n",
        "\n",
        "# Calculate accuracy on the validation set\n",
        "accuracy = calculate_accuracy(np.array(predictions), validate_labels)\n",
        "print(\"Validation Accuracy:\", accuracy)"
      ]
    },
    {
      "cell_type": "code",
      "execution_count": null,
      "metadata": {
        "id": "CMvs4fnQUrdP",
        "outputId": "4a2dba35-1883-4414-cd27-d612cc999ce6"
      },
      "outputs": [
        {
          "name": "stdout",
          "output_type": "stream",
          "text": [
            "Number of unique labels: 10\n"
          ]
        }
      ],
      "source": [
        "# Check the number of unique labels in the dataset\n",
        "unique_labels = new_train_df.iloc[:, 0].unique()\n",
        "num_unique_labels = len(unique_labels)\n",
        "print(f\"Number of unique labels: {num_unique_labels}\")"
      ]
    },
    {
      "cell_type": "code",
      "execution_count": null,
      "metadata": {
        "colab": {
          "base_uri": "https://localhost:8080/"
        },
        "id": "PBnc12kRJaSC",
        "outputId": "85c02393-1b09-43ec-809c-734d08ed0de1"
      },
      "outputs": [
        {
          "name": "stdout",
          "output_type": "stream",
          "text": [
            "Validation Accuracy by using mean variance: 86.27%\n"
          ]
        }
      ],
      "source": [
        "print(\"Validation Accuracy by using mean variance: {:.2f}%\".format(accuracy * 100))"
      ]
    },
    {
      "cell_type": "markdown",
      "source": [
        "## Testing Predictions"
      ],
      "metadata": {
        "id": "li1o7WqeVqoL"
      }
    },
    {
      "cell_type": "code",
      "execution_count": null,
      "metadata": {
        "id": "r2-7tOw2B4UD"
      },
      "outputs": [],
      "source": [
        "# Assuming test.csv contains image ids and pixel values (without labels)\n",
        "test_df = pd.read_csv('test.csv')\n",
        "# Apply threshold to all images in test_df\n",
        "new_test_df = test_df.copy()  # Copy the original DataFrame to preserve image_id\n",
        "new_test_df.iloc[:, 1:] = test_df.iloc[:, 1:].apply(apply_threshold, axis=1)  # Apply threshold to all pixel data\n",
        "test_features = []\n",
        "\n",
        "# Extract features (mean and variance) for the test set\n",
        "for i in range(len(test_df)):\n",
        "    mean, variance = calculate_mean_and_variance(test_df.iloc[i, 1:])\n",
        "    test_features.append([mean, variance])\n",
        "\n",
        "test_features = np.array(test_features)\n",
        "\n",
        "# Make predictions on the test set\n",
        "test_predictions = predict(test_features, train_features, train_labels)\n",
        "\n",
        "# Create a DataFrame for the test set predictions\n",
        "submission_df = pd.DataFrame({\n",
        "    'ID': test_df['image_id'],  # Image ids\n",
        "    'Label': test_predictions       # Predicted labels\n",
        "})\n",
        "\n",
        "# Save to a CSV file\n",
        "submission_df.to_csv('submission.csv', index=False)"
      ]
    }
  ],
  "metadata": {
    "colab": {
      "provenance": []
    },
    "kernelspec": {
      "display_name": "Python 3",
      "name": "python3"
    },
    "language_info": {
      "codemirror_mode": {
        "name": "ipython",
        "version": 3
      },
      "file_extension": ".py",
      "mimetype": "text/x-python",
      "name": "python",
      "nbconvert_exporter": "python",
      "pygments_lexer": "ipython3",
      "version": "3.10.12"
    }
  },
  "nbformat": 4,
  "nbformat_minor": 0
}